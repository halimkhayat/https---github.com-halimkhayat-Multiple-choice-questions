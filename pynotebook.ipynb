{
 "cells": [
  {
   "cell_type": "code",
   "execution_count": 2,
   "id": "5c8dc4c9",
   "metadata": {},
   "outputs": [
    {
     "data": {
      "text/plain": [
       "'/Users/halimkhayat/Python_learn'"
      ]
     },
     "execution_count": 2,
     "metadata": {},
     "output_type": "execute_result"
    }
   ],
   "source": [
    "pwd"
   ]
  },
  {
   "cell_type": "code",
   "execution_count": 3,
   "id": "5b56717b",
   "metadata": {},
   "outputs": [
    {
     "name": "stdout",
     "output_type": "stream",
     "text": [
      "Overwriting myfile.txt\n"
     ]
    }
   ],
   "source": [
    "%%writefile myfile.txt\n",
    "Hello World\n",
    "This is my text\n",
    "This is my practice sheet"
   ]
  },
  {
   "cell_type": "code",
   "execution_count": 4,
   "id": "33791912",
   "metadata": {},
   "outputs": [],
   "source": [
    "myfile = open('myfile.txt')"
   ]
  },
  {
   "cell_type": "code",
   "execution_count": 5,
   "id": "bcf86fdc",
   "metadata": {},
   "outputs": [
    {
     "data": {
      "text/plain": [
       "'Hello World\\nThis is my text\\nThis is my practice sheet\\n'"
      ]
     },
     "execution_count": 5,
     "metadata": {},
     "output_type": "execute_result"
    }
   ],
   "source": [
    "myfile.read()"
   ]
  },
  {
   "cell_type": "code",
   "execution_count": 6,
   "id": "50ccc4c6",
   "metadata": {},
   "outputs": [
    {
     "data": {
      "text/plain": [
       "''"
      ]
     },
     "execution_count": 6,
     "metadata": {},
     "output_type": "execute_result"
    }
   ],
   "source": [
    "myfile.read()"
   ]
  },
  {
   "cell_type": "code",
   "execution_count": 7,
   "id": "afe4c661",
   "metadata": {},
   "outputs": [
    {
     "data": {
      "text/plain": [
       "0"
      ]
     },
     "execution_count": 7,
     "metadata": {},
     "output_type": "execute_result"
    }
   ],
   "source": [
    "myfile.seek(0)"
   ]
  },
  {
   "cell_type": "code",
   "execution_count": 8,
   "id": "adc5fd1e",
   "metadata": {},
   "outputs": [
    {
     "data": {
      "text/plain": [
       "'Hello World\\nThis is my text\\nThis is my practice sheet\\n'"
      ]
     },
     "execution_count": 8,
     "metadata": {},
     "output_type": "execute_result"
    }
   ],
   "source": [
    "myfile.read()"
   ]
  },
  {
   "cell_type": "code",
   "execution_count": 9,
   "id": "f390f7e2",
   "metadata": {},
   "outputs": [
    {
     "data": {
      "text/plain": [
       "0"
      ]
     },
     "execution_count": 9,
     "metadata": {},
     "output_type": "execute_result"
    }
   ],
   "source": [
    "myfile.seek(0)"
   ]
  },
  {
   "cell_type": "code",
   "execution_count": 10,
   "id": "53063429",
   "metadata": {},
   "outputs": [
    {
     "data": {
      "text/plain": [
       "['Hello World\\n', 'This is my text\\n', 'This is my practice sheet\\n']"
      ]
     },
     "execution_count": 10,
     "metadata": {},
     "output_type": "execute_result"
    }
   ],
   "source": [
    "myfile.readlines()"
   ]
  },
  {
   "cell_type": "code",
   "execution_count": 11,
   "id": "8d416680",
   "metadata": {},
   "outputs": [
    {
     "data": {
      "text/plain": [
       "'/Users/halimkhayat/Python_learn'"
      ]
     },
     "execution_count": 11,
     "metadata": {},
     "output_type": "execute_result"
    }
   ],
   "source": [
    "pwd"
   ]
  },
  {
   "cell_type": "code",
   "execution_count": 12,
   "id": "d575f3eb",
   "metadata": {},
   "outputs": [],
   "source": [
    "myfile.close()"
   ]
  },
  {
   "cell_type": "code",
   "execution_count": 13,
   "id": "87bec790",
   "metadata": {},
   "outputs": [],
   "source": [
    "with open('myfile.txt') as my_new_file:\n",
    "    content = my_new_file.read()"
   ]
  },
  {
   "cell_type": "code",
   "execution_count": 14,
   "id": "67b6f375",
   "metadata": {},
   "outputs": [
    {
     "data": {
      "text/plain": [
       "'Hello World\\nThis is my text\\nThis is my practice sheet\\n'"
      ]
     },
     "execution_count": 14,
     "metadata": {},
     "output_type": "execute_result"
    }
   ],
   "source": [
    "content"
   ]
  },
  {
   "cell_type": "code",
   "execution_count": 15,
   "id": "593d3387",
   "metadata": {},
   "outputs": [
    {
     "name": "stdout",
     "output_type": "stream",
     "text": [
      "Overwriting my_new_file.txt\n"
     ]
    }
   ],
   "source": [
    "%%writefile my_new_file.txt\n",
    "Nama saya Abdul Halim\n",
    "saya hensem\n",
    "saya bijak dan kaya\n"
   ]
  },
  {
   "cell_type": "code",
   "execution_count": 16,
   "id": "0272f361",
   "metadata": {},
   "outputs": [
    {
     "data": {
      "text/plain": [
       "<_io.TextIOWrapper name='my_new_file.txt' mode='r' encoding='UTF-8'>"
      ]
     },
     "execution_count": 16,
     "metadata": {},
     "output_type": "execute_result"
    }
   ],
   "source": [
    "open('my_new_file.txt')"
   ]
  },
  {
   "cell_type": "code",
   "execution_count": 17,
   "id": "2ec35f51",
   "metadata": {},
   "outputs": [
    {
     "data": {
      "text/plain": [
       "True"
      ]
     },
     "execution_count": 17,
     "metadata": {},
     "output_type": "execute_result"
    }
   ],
   "source": [
    "2 == 2"
   ]
  },
  {
   "cell_type": "code",
   "execution_count": 18,
   "id": "7ed464d2",
   "metadata": {},
   "outputs": [
    {
     "data": {
      "text/plain": [
       "True"
      ]
     },
     "execution_count": 18,
     "metadata": {},
     "output_type": "execute_result"
    }
   ],
   "source": [
    "2 != 4"
   ]
  },
  {
   "cell_type": "code",
   "execution_count": 19,
   "id": "15bc6f61",
   "metadata": {},
   "outputs": [
    {
     "data": {
      "text/plain": [
       "True"
      ]
     },
     "execution_count": 19,
     "metadata": {},
     "output_type": "execute_result"
    }
   ],
   "source": [
    "3 <= 7"
   ]
  },
  {
   "cell_type": "code",
   "execution_count": 20,
   "id": "e8893fcb",
   "metadata": {},
   "outputs": [
    {
     "data": {
      "text/plain": [
       "False"
      ]
     },
     "execution_count": 20,
     "metadata": {},
     "output_type": "execute_result"
    }
   ],
   "source": [
    "4 > 5"
   ]
  },
  {
   "cell_type": "code",
   "execution_count": 21,
   "id": "b3d22caa",
   "metadata": {},
   "outputs": [
    {
     "data": {
      "text/plain": [
       "False"
      ]
     },
     "execution_count": 21,
     "metadata": {},
     "output_type": "execute_result"
    }
   ],
   "source": [
    "7 <= 1"
   ]
  },
  {
   "cell_type": "code",
   "execution_count": 22,
   "id": "9e3470f9",
   "metadata": {},
   "outputs": [
    {
     "data": {
      "text/plain": [
       "True"
      ]
     },
     "execution_count": 22,
     "metadata": {},
     "output_type": "execute_result"
    }
   ],
   "source": [
    "0 != 34"
   ]
  },
  {
   "cell_type": "code",
   "execution_count": 23,
   "id": "8ec0afbc",
   "metadata": {},
   "outputs": [
    {
     "data": {
      "text/plain": [
       "True"
      ]
     },
     "execution_count": 23,
     "metadata": {},
     "output_type": "execute_result"
    }
   ],
   "source": [
    "13 == 13 and 26 == 26"
   ]
  },
  {
   "cell_type": "code",
   "execution_count": 24,
   "id": "c879cb29",
   "metadata": {},
   "outputs": [
    {
     "data": {
      "text/plain": [
       "True"
      ]
     },
     "execution_count": 24,
     "metadata": {},
     "output_type": "execute_result"
    }
   ],
   "source": [
    "'g' == 'g' and 9 != 0"
   ]
  },
  {
   "cell_type": "code",
   "execution_count": 25,
   "id": "9c1ea800",
   "metadata": {},
   "outputs": [
    {
     "data": {
      "text/plain": [
       "False"
      ]
     },
     "execution_count": 25,
     "metadata": {},
     "output_type": "execute_result"
    }
   ],
   "source": [
    "32 < 43 and 45 > 66"
   ]
  },
  {
   "cell_type": "code",
   "execution_count": 26,
   "id": "aefbcf43",
   "metadata": {},
   "outputs": [
    {
     "data": {
      "text/plain": [
       "True"
      ]
     },
     "execution_count": 26,
     "metadata": {},
     "output_type": "execute_result"
    }
   ],
   "source": [
    "not 'i' == 'p'"
   ]
  },
  {
   "cell_type": "code",
   "execution_count": 27,
   "id": "74ab605b",
   "metadata": {},
   "outputs": [
    {
     "name": "stdout",
     "output_type": "stream",
     "text": [
      "siapa nama awak?\n"
     ]
    }
   ],
   "source": [
    "nama = 'Naim'\n",
    "\n",
    "if nama == 'Halim':\n",
    "    print(\"hi halim\")\n",
    "elif nama == 'abu':\n",
    "    print(\"hi abu\")\n",
    "elif nama == 'john':\n",
    "    print(\"hi john\")\n",
    "else:\n",
    "    print(\"siapa nama awak?\")"
   ]
  },
  {
   "cell_type": "code",
   "execution_count": 28,
   "id": "886d5ce2",
   "metadata": {},
   "outputs": [
    {
     "name": "stdout",
     "output_type": "stream",
     "text": [
      "9\n",
      "8\n",
      "7\n",
      "6\n",
      "5\n",
      "4\n",
      "3\n",
      "2\n",
      "1\n"
     ]
    }
   ],
   "source": [
    "hello = [9,8,7,6,5,4,3,2,1]\n",
    "\n",
    "for num in hello:\n",
    "    print(num)"
   ]
  },
  {
   "cell_type": "code",
   "execution_count": 29,
   "id": "8ff61807",
   "metadata": {
    "scrolled": false
   },
   "outputs": [
    {
     "name": "stdout",
     "output_type": "stream",
     "text": [
      "no ganjil: 11\n",
      "12\n",
      "no ganjil: 13\n",
      "14\n",
      "no ganjil: 15\n",
      "16\n",
      "no ganjil: 17\n",
      "18\n",
      "no ganjil: 19\n",
      "20\n"
     ]
    }
   ],
   "source": [
    "good = [11,12,13,14,15,16,17,18,19,20]\n",
    "\n",
    "for num in good:\n",
    "    #can divide by 2 \n",
    "    if num % 2 == 0:\n",
    "        print(num)\n",
    "    else:\n",
    "        print(f'no ganjil: {num}')"
   ]
  },
  {
   "cell_type": "code",
   "execution_count": 30,
   "id": "5e274d80",
   "metadata": {},
   "outputs": [
    {
     "name": "stdout",
     "output_type": "stream",
     "text": [
      "12\n",
      "24\n",
      "37\n",
      "51\n",
      "66\n",
      "82\n",
      "99\n",
      "117\n",
      "136\n",
      "156\n"
     ]
    }
   ],
   "source": [
    "list_sum = 1\n",
    "\n",
    "for num in good:\n",
    "    list_sum = list_sum + num\n",
    "\n",
    "    print(list_sum)\n"
   ]
  },
  {
   "cell_type": "code",
   "execution_count": 31,
   "id": "11ce563d",
   "metadata": {},
   "outputs": [
    {
     "name": "stdout",
     "output_type": "stream",
     "text": [
      "3\n",
      "9\n",
      "13\n"
     ]
    }
   ],
   "source": [
    "snr = [(1,3),(5,9),(11,13)]\n",
    "\n",
    "for i,r in snr:\n",
    "    print(r)"
   ]
  },
  {
   "cell_type": "code",
   "execution_count": 32,
   "id": "ec722b53",
   "metadata": {},
   "outputs": [
    {
     "name": "stdout",
     "output_type": "stream",
     "text": [
      "1\n",
      "2\n",
      "3\n"
     ]
    }
   ],
   "source": [
    "dhn = {'o':1,'j':2,'k':3}\n",
    "\n",
    "for h,n in dhn.items():\n",
    "    print(n)"
   ]
  },
  {
   "cell_type": "code",
   "execution_count": 33,
   "id": "8edebbab",
   "metadata": {},
   "outputs": [
    {
     "name": "stdout",
     "output_type": "stream",
     "text": [
      "value of x is 1\n",
      "value of x is 2\n",
      "value of x is 3\n",
      "value of x is 4\n",
      "value of x is 5\n",
      "x is not less than 6\n"
     ]
    }
   ],
   "source": [
    "x = 1\n",
    "\n",
    "while x < 6:\n",
    "    print(f'value of x is {x}')\n",
    "    x = x + 1\n",
    "else:\n",
    "    print(\"x is not less than 6\")\n",
    "    "
   ]
  },
  {
   "cell_type": "code",
   "execution_count": 34,
   "id": "a0cb9786",
   "metadata": {},
   "outputs": [
    {
     "name": "stdout",
     "output_type": "stream",
     "text": [
      "3\n",
      "4\n",
      "5\n",
      "6\n",
      "7\n",
      "8\n",
      "9\n",
      "10\n",
      "11\n",
      "12\n",
      "13\n",
      "14\n",
      "15\n",
      "16\n",
      "17\n",
      "18\n",
      "19\n",
      "20\n",
      "21\n",
      "22\n",
      "23\n",
      "24\n",
      "25\n",
      "26\n",
      "27\n",
      "28\n",
      "29\n",
      "habis dah\n"
     ]
    }
   ],
   "source": [
    "x = 3\n",
    "\n",
    "while x < 30:\n",
    "    print(x)\n",
    "    x += 1\n",
    "else:\n",
    "    print('habis dah')"
   ]
  },
  {
   "cell_type": "code",
   "execution_count": 35,
   "id": "20b62a88",
   "metadata": {},
   "outputs": [
    {
     "name": "stdout",
     "output_type": "stream",
     "text": [
      "1\n",
      "2\n",
      "3\n"
     ]
    }
   ],
   "source": [
    "listini = [1,2,3,4,5]\n",
    "\n",
    "for num in listini:\n",
    "    if num == 4:\n",
    "        break\n",
    "    print(num)\n",
    "    "
   ]
  },
  {
   "cell_type": "code",
   "execution_count": 36,
   "id": "c2b043e2",
   "metadata": {},
   "outputs": [
    {
     "name": "stdout",
     "output_type": "stream",
     "text": [
      "0\n",
      "1\n",
      "2\n",
      "3\n",
      "4\n",
      "5\n",
      "6\n",
      "7\n",
      "8\n",
      "9\n"
     ]
    }
   ],
   "source": [
    "for num in range(10):\n",
    "    print(num)"
   ]
  },
  {
   "cell_type": "code",
   "execution_count": 37,
   "id": "eb643fc3",
   "metadata": {},
   "outputs": [
    {
     "name": "stdout",
     "output_type": "stream",
     "text": [
      "3\n",
      "6\n",
      "9\n",
      "12\n",
      "15\n",
      "18\n"
     ]
    }
   ],
   "source": [
    "for num in range(3,20,3):\n",
    "    print(num)"
   ]
  },
  {
   "cell_type": "code",
   "execution_count": 38,
   "id": "014a059a",
   "metadata": {},
   "outputs": [],
   "source": [
    "thelist = [x for x in range(0,20)]"
   ]
  },
  {
   "cell_type": "code",
   "execution_count": 39,
   "id": "8c738da2",
   "metadata": {},
   "outputs": [
    {
     "data": {
      "text/plain": [
       "[0, 1, 2, 3, 4, 5, 6, 7, 8, 9, 10, 11, 12, 13, 14, 15, 16, 17, 18, 19]"
      ]
     },
     "execution_count": 39,
     "metadata": {},
     "output_type": "execute_result"
    }
   ],
   "source": [
    "thelist"
   ]
  },
  {
   "cell_type": "code",
   "execution_count": 40,
   "id": "6add09b0",
   "metadata": {},
   "outputs": [],
   "source": [
    "clist = [w for w in range(0,21) if w%3==0]"
   ]
  },
  {
   "cell_type": "code",
   "execution_count": 41,
   "id": "cd96df2e",
   "metadata": {},
   "outputs": [
    {
     "data": {
      "text/plain": [
       "[0, 3, 6, 9, 12, 15, 18]"
      ]
     },
     "execution_count": 41,
     "metadata": {},
     "output_type": "execute_result"
    }
   ],
   "source": [
    "clist"
   ]
  },
  {
   "cell_type": "code",
   "execution_count": 42,
   "id": "d67fbe13",
   "metadata": {},
   "outputs": [],
   "source": [
    "tg = 'belajar python tak susah, python adalah p dan juga pp'"
   ]
  },
  {
   "cell_type": "code",
   "execution_count": 43,
   "id": "8219517e",
   "metadata": {},
   "outputs": [
    {
     "name": "stdout",
     "output_type": "stream",
     "text": [
      "python\n",
      "python\n",
      "p\n",
      "pp\n"
     ]
    }
   ],
   "source": [
    "for w in tg.split():\n",
    "    if w[0]=='p':\n",
    "        print(w)"
   ]
  },
  {
   "cell_type": "code",
   "execution_count": 44,
   "id": "71f63fec",
   "metadata": {},
   "outputs": [],
   "source": [
    "jhk = [12,13,14,15,16,17,18,19,20]"
   ]
  },
  {
   "cell_type": "code",
   "execution_count": 45,
   "id": "4da5aaa6",
   "metadata": {},
   "outputs": [
    {
     "name": "stdout",
     "output_type": "stream",
     "text": [
      "12\n",
      "yg lain tak boleh bahagi dgn tiga\n",
      "yg lain tak boleh bahagi dgn tiga\n",
      "15\n",
      "yg lain tak boleh bahagi dgn tiga\n",
      "yg lain tak boleh bahagi dgn tiga\n",
      "18\n",
      "yg lain tak boleh bahagi dgn tiga\n",
      "yg lain tak boleh bahagi dgn tiga\n"
     ]
    }
   ],
   "source": [
    "for no in jhk:\n",
    "    if no %3==0:\n",
    "        print(no)\n",
    "    else:\n",
    "        print('yg lain tak boleh bahagi dgn tiga')"
   ]
  },
  {
   "cell_type": "code",
   "execution_count": 46,
   "id": "ea228dd6",
   "metadata": {},
   "outputs": [
    {
     "name": "stdout",
     "output_type": "stream",
     "text": [
      "0\n",
      "2\n",
      "4\n",
      "6\n",
      "8\n",
      "10\n",
      "12\n",
      "14\n",
      "16\n",
      "18\n",
      "20\n",
      "22\n",
      "24\n",
      "26\n",
      "28\n"
     ]
    }
   ],
   "source": [
    "for num in range(0,30,2):\n",
    "    print(num)"
   ]
  },
  {
   "cell_type": "code",
   "execution_count": 47,
   "id": "bbb8380f",
   "metadata": {},
   "outputs": [
    {
     "data": {
      "text/plain": [
       "[0, 4, 8, 12, 16, 20, 24, 28, 32, 36, 40, 44, 48, 52, 56, 60]"
      ]
     },
     "execution_count": 47,
     "metadata": {},
     "output_type": "execute_result"
    }
   ],
   "source": [
    "[j for j in range(0,61) if j%4==0]"
   ]
  },
  {
   "cell_type": "code",
   "execution_count": 48,
   "id": "be526965",
   "metadata": {},
   "outputs": [
    {
     "data": {
      "text/plain": [
       "[0,\n",
       " 3,\n",
       " 6,\n",
       " 9,\n",
       " 12,\n",
       " 15,\n",
       " 18,\n",
       " 21,\n",
       " 24,\n",
       " 27,\n",
       " 30,\n",
       " 33,\n",
       " 36,\n",
       " 39,\n",
       " 42,\n",
       " 45,\n",
       " 48,\n",
       " 51,\n",
       " 54,\n",
       " 57,\n",
       " 60,\n",
       " 63,\n",
       " 66,\n",
       " 69,\n",
       " 72,\n",
       " 75,\n",
       " 78,\n",
       " 81,\n",
       " 84,\n",
       " 87,\n",
       " 90]"
      ]
     },
     "execution_count": 48,
     "metadata": {},
     "output_type": "execute_result"
    }
   ],
   "source": [
    "list(range(0,91,3))"
   ]
  },
  {
   "cell_type": "code",
   "execution_count": 49,
   "id": "f7607cb2",
   "metadata": {},
   "outputs": [],
   "source": [
    "power ='nama saya aisyah syifaa, saya budak comel dan baik'"
   ]
  },
  {
   "cell_type": "code",
   "execution_count": 50,
   "id": "cde002f1",
   "metadata": {},
   "outputs": [
    {
     "name": "stdout",
     "output_type": "stream",
     "text": [
      "aisyah\n",
      "dan\n"
     ]
    }
   ],
   "source": [
    "for w in power.split():\n",
    "    if len(w) %3== 0:\n",
    "        print(w)"
   ]
  },
  {
   "cell_type": "code",
   "execution_count": 51,
   "id": "495c0a5f",
   "metadata": {},
   "outputs": [
    {
     "data": {
      "text/plain": [
       "['m', 'y', 's', 'i', 'y', 'd', 'm', 'n', 'i']"
      ]
     },
     "execution_count": 51,
     "metadata": {},
     "output_type": "execute_result"
    }
   ],
   "source": [
    "[w[2] for w in power.split()]"
   ]
  },
  {
   "cell_type": "code",
   "execution_count": 52,
   "id": "afe70ae4",
   "metadata": {},
   "outputs": [
    {
     "data": {
      "text/plain": [
       "[0, 5, 10, 15]"
      ]
     },
     "execution_count": 52,
     "metadata": {},
     "output_type": "execute_result"
    }
   ],
   "source": [
    "list(range(0,20,5))"
   ]
  },
  {
   "cell_type": "code",
   "execution_count": 53,
   "id": "f3f27fb1",
   "metadata": {},
   "outputs": [
    {
     "name": "stdout",
     "output_type": "stream",
     "text": [
      "ya lah\n",
      "ya lah\n",
      "apa2 lah\n",
      "ya lah\n",
      "ya lah\n",
      "apa2 lah\n",
      "ya lah\n",
      "ya lah\n",
      "ya lah\n",
      "ya lah\n",
      "ya lah\n",
      "apa2 lah\n",
      "ya lah\n",
      "ya lah\n",
      "apa2 lah\n",
      "ya lah\n",
      "ya lah\n",
      "ya lah\n",
      "ya lah\n",
      "ya lah\n",
      "apa2 lah\n",
      "ya lah\n",
      "ya lah\n",
      "apa2 lah\n",
      "ya lah\n",
      "ya lah\n",
      "ya lah\n",
      "ya lah\n",
      "ya lah\n",
      "apa2 lah\n",
      "ya lah\n",
      "ya lah\n",
      "apa2 lah\n",
      "ya lah\n",
      "ya lah\n",
      "ya lah\n",
      "ya lah\n",
      "ya lah\n",
      "apa2 lah\n",
      "ya lah\n",
      "ya lah\n",
      "apa2 lah\n",
      "ya lah\n"
     ]
    }
   ],
   "source": [
    "for no in range(1,101):\n",
    "    if no%3 == 0:\n",
    "        print('ya lah')\n",
    "    elif no%7 == 0:\n",
    "        print('apa2 lah')"
   ]
  },
  {
   "cell_type": "code",
   "execution_count": 54,
   "id": "cd13bab0",
   "metadata": {},
   "outputs": [],
   "source": [
    "thelist = [9,8,7,6,5,4,3,2,1]"
   ]
  },
  {
   "cell_type": "code",
   "execution_count": 55,
   "id": "eb0319d4",
   "metadata": {},
   "outputs": [],
   "source": [
    "thelist.append(0)"
   ]
  },
  {
   "cell_type": "code",
   "execution_count": 56,
   "id": "f7afe9eb",
   "metadata": {},
   "outputs": [
    {
     "data": {
      "text/plain": [
       "[9, 8, 7, 6, 5, 4, 3, 2, 1, 0]"
      ]
     },
     "execution_count": 56,
     "metadata": {},
     "output_type": "execute_result"
    }
   ],
   "source": [
    "thelist"
   ]
  },
  {
   "cell_type": "code",
   "execution_count": 57,
   "id": "fa5e78eb",
   "metadata": {},
   "outputs": [
    {
     "data": {
      "text/plain": [
       "0"
      ]
     },
     "execution_count": 57,
     "metadata": {},
     "output_type": "execute_result"
    }
   ],
   "source": [
    "thelist.pop()"
   ]
  },
  {
   "cell_type": "code",
   "execution_count": 58,
   "id": "1d8ce895",
   "metadata": {},
   "outputs": [
    {
     "name": "stdout",
     "output_type": "stream",
     "text": [
      "Help on built-in function insert:\n",
      "\n",
      "insert(index, object, /) method of builtins.list instance\n",
      "    Insert object before index.\n",
      "\n"
     ]
    }
   ],
   "source": [
    "help(thelist.insert)"
   ]
  },
  {
   "cell_type": "code",
   "execution_count": 59,
   "id": "6ef3ddf3",
   "metadata": {},
   "outputs": [],
   "source": [
    "thelist.append(0)"
   ]
  },
  {
   "cell_type": "code",
   "execution_count": 60,
   "id": "9ef9cd15",
   "metadata": {},
   "outputs": [
    {
     "data": {
      "text/plain": [
       "[9, 8, 7, 6, 5, 4, 3, 2, 1, 0]"
      ]
     },
     "execution_count": 60,
     "metadata": {},
     "output_type": "execute_result"
    }
   ],
   "source": [
    "thelist"
   ]
  },
  {
   "cell_type": "code",
   "execution_count": 61,
   "id": "ef34aa2a",
   "metadata": {},
   "outputs": [
    {
     "name": "stdout",
     "output_type": "stream",
     "text": [
      "9\n",
      "8\n",
      "7\n",
      "6\n",
      "5\n",
      "4\n",
      "3\n",
      "2\n",
      "1\n",
      "0\n"
     ]
    }
   ],
   "source": [
    "for x in thelist:\n",
    "    print(x)"
   ]
  },
  {
   "cell_type": "code",
   "execution_count": 62,
   "id": "99d5bb35",
   "metadata": {},
   "outputs": [
    {
     "name": "stdout",
     "output_type": "stream",
     "text": [
      "9\n",
      "6\n",
      "3\n",
      "0\n"
     ]
    }
   ],
   "source": [
    "for x in thelist:\n",
    "    if x %3 == 0:\n",
    "        print(x)"
   ]
  },
  {
   "cell_type": "code",
   "execution_count": 63,
   "id": "d7672f9d",
   "metadata": {},
   "outputs": [],
   "source": [
    "def salam_alaik(nama):\n",
    "    print(f'salam {nama}')"
   ]
  },
  {
   "cell_type": "code",
   "execution_count": 64,
   "id": "b256da37",
   "metadata": {},
   "outputs": [
    {
     "name": "stdout",
     "output_type": "stream",
     "text": [
      "salam halim\n"
     ]
    }
   ],
   "source": [
    "salam_alaik('halim')"
   ]
  },
  {
   "cell_type": "code",
   "execution_count": 65,
   "id": "e853309d",
   "metadata": {},
   "outputs": [],
   "source": [
    "def add_no(no1,no2):\n",
    "    return no1+no2"
   ]
  },
  {
   "cell_type": "code",
   "execution_count": 66,
   "id": "b70ece2a",
   "metadata": {},
   "outputs": [],
   "source": [
    "kol = add_no(34,67)"
   ]
  },
  {
   "cell_type": "code",
   "execution_count": 67,
   "id": "0ac328d3",
   "metadata": {},
   "outputs": [
    {
     "data": {
      "text/plain": [
       "101"
      ]
     },
     "execution_count": 67,
     "metadata": {},
     "output_type": "execute_result"
    }
   ],
   "source": [
    "kol"
   ]
  },
  {
   "cell_type": "code",
   "execution_count": 77,
   "id": "6f9ab1db",
   "metadata": {},
   "outputs": [],
   "source": [
    "def nombor_ganjil(noganjil1):\n",
    "    for x in noganjil1:\n",
    "        if x % 2 == 0:\n",
    "            return True\n",
    "        else:\n",
    "            pass\n",
    "        "
   ]
  },
  {
   "cell_type": "code",
   "execution_count": 78,
   "id": "cbbf1fdb",
   "metadata": {},
   "outputs": [
    {
     "data": {
      "text/plain": [
       "True"
      ]
     },
     "execution_count": 78,
     "metadata": {},
     "output_type": "execute_result"
    }
   ],
   "source": [
    "nombor_ganjil([1,2,2,3,4,5,6,7,8,8])\n"
   ]
  },
  {
   "cell_type": "code",
   "execution_count": 70,
   "id": "b86a19e4",
   "metadata": {},
   "outputs": [],
   "source": [
    "def even_checklist(numara):\n",
    "    # Cuba try yg ni\n",
    "    even_numara = []\n",
    "    \n",
    "    for v in numara:\n",
    "        if v %2 == 0:\n",
    "            even_numara.append(v)\n",
    "            \n",
    "        else:\n",
    "            pass\n",
    "    return even_numara"
   ]
  },
  {
   "cell_type": "code",
   "execution_count": 71,
   "id": "4b4e9cef",
   "metadata": {},
   "outputs": [
    {
     "data": {
      "text/plain": [
       "[2, 4, 6, 8]"
      ]
     },
     "execution_count": 71,
     "metadata": {},
     "output_type": "execute_result"
    }
   ],
   "source": [
    "even_checklist([1,2,3,4,5,6,7,8])"
   ]
  },
  {
   "cell_type": "code",
   "execution_count": 72,
   "id": "e4381028",
   "metadata": {},
   "outputs": [
    {
     "data": {
      "text/plain": [
       "[]"
      ]
     },
     "execution_count": 72,
     "metadata": {},
     "output_type": "execute_result"
    }
   ],
   "source": [
    "even_checklist([1,3,5,7,9])"
   ]
  },
  {
   "cell_type": "code",
   "execution_count": 1,
   "id": "6675f452",
   "metadata": {},
   "outputs": [],
   "source": [
    "work_hours = [('Ali', 300),('Muthu',500),('Ah Hock',700),('Cassandra',200),('Bilal',1000)]"
   ]
  },
  {
   "cell_type": "code",
   "execution_count": 2,
   "id": "ec954e4b",
   "metadata": {},
   "outputs": [
    {
     "data": {
      "text/plain": [
       "[('Ali', 300),\n",
       " ('Muthu', 500),\n",
       " ('Ah Hock', 700),\n",
       " ('Cassandra', 200),\n",
       " ('Bilal', 1000)]"
      ]
     },
     "execution_count": 2,
     "metadata": {},
     "output_type": "execute_result"
    }
   ],
   "source": [
    "work_hours"
   ]
  },
  {
   "cell_type": "code",
   "execution_count": 3,
   "id": "70637475",
   "metadata": {},
   "outputs": [],
   "source": [
    "def employee_check(work_hours):\n",
    "    \n",
    "    most_hours = 0\n",
    "    employee_of_month = ''\n",
    "    \n",
    "    for employee,hours in work_hours:\n",
    "        if hours > most_hours:\n",
    "            most_hours = hours\n",
    "            employee_of_month = employee\n",
    "    else:\n",
    "        pass\n",
    "    \n",
    "    return(employee_of_month,hours)"
   ]
  },
  {
   "cell_type": "code",
   "execution_count": 4,
   "id": "0d8543d1",
   "metadata": {},
   "outputs": [
    {
     "data": {
      "text/plain": [
       "('Bilal', 1000)"
      ]
     },
     "execution_count": 4,
     "metadata": {},
     "output_type": "execute_result"
    }
   ],
   "source": [
    "employee_check(work_hours)"
   ]
  },
  {
   "cell_type": "code",
   "execution_count": 1,
   "id": "368ac765",
   "metadata": {},
   "outputs": [],
   "source": [
    "contoh =[1,2,3,4,5,6,7,8,9]"
   ]
  },
  {
   "cell_type": "code",
   "execution_count": 4,
   "id": "952ba877",
   "metadata": {},
   "outputs": [],
   "source": [
    "from random import shuffle"
   ]
  },
  {
   "cell_type": "code",
   "execution_count": 21,
   "id": "e53311a5",
   "metadata": {},
   "outputs": [],
   "source": [
    "def shuffle_list(mylist):\n",
    "    shuffle(mylist)\n",
    "    return mylist"
   ]
  },
  {
   "cell_type": "code",
   "execution_count": null,
   "id": "5d594c6d",
   "metadata": {},
   "outputs": [],
   "source": []
  },
  {
   "cell_type": "code",
   "execution_count": 22,
   "id": "76b53cd7",
   "metadata": {},
   "outputs": [
    {
     "data": {
      "text/plain": [
       "[1, 4, 8, 7, 6, 5, 3, 9, 2]"
      ]
     },
     "execution_count": 22,
     "metadata": {},
     "output_type": "execute_result"
    }
   ],
   "source": [
    "shuffle_list(contoh)"
   ]
  },
  {
   "cell_type": "code",
   "execution_count": null,
   "id": "f4ebbe95",
   "metadata": {},
   "outputs": [],
   "source": []
  },
  {
   "cell_type": "code",
   "execution_count": 23,
   "id": "1c9de2e3",
   "metadata": {},
   "outputs": [],
   "source": [
    "huruf = ['a','b','c','d','e']"
   ]
  },
  {
   "cell_type": "code",
   "execution_count": null,
   "id": "fd799d36",
   "metadata": {},
   "outputs": [],
   "source": []
  },
  {
   "cell_type": "code",
   "execution_count": 25,
   "id": "2b154921",
   "metadata": {},
   "outputs": [
    {
     "data": {
      "text/plain": [
       "['b', 'e', 'd', 'c', 'a']"
      ]
     },
     "execution_count": 25,
     "metadata": {},
     "output_type": "execute_result"
    }
   ],
   "source": [
    "shuffle_list(huruf)"
   ]
  },
  {
   "cell_type": "code",
   "execution_count": null,
   "id": "9bfa79d2",
   "metadata": {},
   "outputs": [],
   "source": []
  },
  {
   "cell_type": "code",
   "execution_count": null,
   "id": "a10c7a18",
   "metadata": {},
   "outputs": [],
   "source": []
  },
  {
   "cell_type": "code",
   "execution_count": null,
   "id": "708bee9a",
   "metadata": {},
   "outputs": [],
   "source": []
  },
  {
   "cell_type": "code",
   "execution_count": 26,
   "id": "fe5d2308",
   "metadata": {},
   "outputs": [],
   "source": [
    "def teka_nombor():\n",
    "    \n",
    "    teka = ''\n",
    "    \n",
    "    while teka not in ['0','1','2','3']:\n",
    "        teka = input(\"Pilih nombor: 0,1,2 atau 3\")\n",
    "        \n",
    "    return int(teka)"
   ]
  },
  {
   "cell_type": "code",
   "execution_count": null,
   "id": "74cba866",
   "metadata": {},
   "outputs": [],
   "source": []
  },
  {
   "cell_type": "code",
   "execution_count": 27,
   "id": "30425d48",
   "metadata": {},
   "outputs": [
    {
     "name": "stdout",
     "output_type": "stream",
     "text": [
      "Pilih nombor: 0,1,2 atau 34\n",
      "Pilih nombor: 0,1,2 atau 35\n",
      "Pilih nombor: 0,1,2 atau 32\n"
     ]
    },
    {
     "data": {
      "text/plain": [
       "2"
      ]
     },
     "execution_count": 27,
     "metadata": {},
     "output_type": "execute_result"
    }
   ],
   "source": [
    "teka_nombor()"
   ]
  },
  {
   "cell_type": "code",
   "execution_count": null,
   "id": "d027b4b7",
   "metadata": {},
   "outputs": [],
   "source": []
  },
  {
   "cell_type": "code",
   "execution_count": 28,
   "id": "4c5943e5",
   "metadata": {},
   "outputs": [],
   "source": [
    "def check_teka(mylist,teka):\n",
    "    if mylist[teka] == 'b':\n",
    "        print(\"Correct!\")\n",
    "    else:\n",
    "        print(\"Wrong Answer!\")\n",
    "        print(mylist)"
   ]
  },
  {
   "cell_type": "code",
   "execution_count": 30,
   "id": "4e4a61cb",
   "metadata": {},
   "outputs": [
    {
     "ename": "TypeError",
     "evalue": "list indices must be integers or slices, not function",
     "output_type": "error",
     "traceback": [
      "\u001b[0;31m---------------------------------------------------------------------------\u001b[0m",
      "\u001b[0;31mTypeError\u001b[0m                                 Traceback (most recent call last)",
      "\u001b[0;32m/var/folders/f4/sgdg38r55rq5xw5ldl62wx5r0000gn/T/ipykernel_31959/3129954037.py\u001b[0m in \u001b[0;36m<module>\u001b[0;34m\u001b[0m\n\u001b[1;32m      9\u001b[0m \u001b[0;34m\u001b[0m\u001b[0m\n\u001b[1;32m     10\u001b[0m \u001b[0;31m#check guess\u001b[0m\u001b[0;34m\u001b[0m\u001b[0;34m\u001b[0m\u001b[0m\n\u001b[0;32m---> 11\u001b[0;31m \u001b[0mcheck_teka\u001b[0m\u001b[0;34m(\u001b[0m\u001b[0mmixedup_list\u001b[0m\u001b[0;34m,\u001b[0m\u001b[0mteka\u001b[0m\u001b[0;34m)\u001b[0m\u001b[0;34m\u001b[0m\u001b[0;34m\u001b[0m\u001b[0m\n\u001b[0m",
      "\u001b[0;32m/var/folders/f4/sgdg38r55rq5xw5ldl62wx5r0000gn/T/ipykernel_31959/2472090260.py\u001b[0m in \u001b[0;36mcheck_teka\u001b[0;34m(mylist, teka)\u001b[0m\n\u001b[1;32m      1\u001b[0m \u001b[0;32mdef\u001b[0m \u001b[0mcheck_teka\u001b[0m\u001b[0;34m(\u001b[0m\u001b[0mmylist\u001b[0m\u001b[0;34m,\u001b[0m\u001b[0mteka\u001b[0m\u001b[0;34m)\u001b[0m\u001b[0;34m:\u001b[0m\u001b[0;34m\u001b[0m\u001b[0;34m\u001b[0m\u001b[0m\n\u001b[0;32m----> 2\u001b[0;31m     \u001b[0;32mif\u001b[0m \u001b[0mmylist\u001b[0m\u001b[0;34m[\u001b[0m\u001b[0mteka\u001b[0m\u001b[0;34m]\u001b[0m \u001b[0;34m==\u001b[0m \u001b[0;34m'b'\u001b[0m\u001b[0;34m:\u001b[0m\u001b[0;34m\u001b[0m\u001b[0;34m\u001b[0m\u001b[0m\n\u001b[0m\u001b[1;32m      3\u001b[0m         \u001b[0mprint\u001b[0m\u001b[0;34m(\u001b[0m\u001b[0;34m\"Correct!\"\u001b[0m\u001b[0;34m)\u001b[0m\u001b[0;34m\u001b[0m\u001b[0;34m\u001b[0m\u001b[0m\n\u001b[1;32m      4\u001b[0m     \u001b[0;32melse\u001b[0m\u001b[0;34m:\u001b[0m\u001b[0;34m\u001b[0m\u001b[0;34m\u001b[0m\u001b[0m\n\u001b[1;32m      5\u001b[0m         \u001b[0mprint\u001b[0m\u001b[0;34m(\u001b[0m\u001b[0;34m\"Wrong Answer!\"\u001b[0m\u001b[0;34m)\u001b[0m\u001b[0;34m\u001b[0m\u001b[0;34m\u001b[0m\u001b[0m\n",
      "\u001b[0;31mTypeError\u001b[0m: list indices must be integers or slices, not function"
     ]
    }
   ],
   "source": [
    "#initial list\n",
    "mylist = ['','b','','']\n",
    "\n",
    "#Shuffle list\n",
    "mixedup_list = shuffle_list(mylist)\n",
    "\n",
    "#user guess\n",
    "teka = teka_nombor\n",
    "\n",
    "#check guess\n",
    "check_teka(mixedup_list,teka)"
   ]
  },
  {
   "cell_type": "code",
   "execution_count": null,
   "id": "ed028099",
   "metadata": {},
   "outputs": [],
   "source": []
  }
 ],
 "metadata": {
  "kernelspec": {
   "display_name": "Python 3 (ipykernel)",
   "language": "python",
   "name": "python3"
  },
  "language_info": {
   "codemirror_mode": {
    "name": "ipython",
    "version": 3
   },
   "file_extension": ".py",
   "mimetype": "text/x-python",
   "name": "python",
   "nbconvert_exporter": "python",
   "pygments_lexer": "ipython3",
   "version": "3.9.7"
  }
 },
 "nbformat": 4,
 "nbformat_minor": 5
}
